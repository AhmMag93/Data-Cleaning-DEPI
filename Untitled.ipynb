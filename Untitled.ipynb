{
 "cells": [
  {
   "cell_type": "markdown",
   "id": "8aac213f-d828-4ab1-b989-70a55feb214d",
   "metadata": {},
   "source": [
    "# Question: Which columns should be categorical and which should be numerical?\n",
    "## Categorical:\n",
    "    - Gender\n",
    "    - Country\n",
    "    - PrevEducation\n",
    "\n",
    "## Numerical:\n",
    "    - "
   ]
  },
  {
   "cell_type": "code",
   "execution_count": null,
   "id": "ce800b56-b0a7-456c-8587-2dc41ac4b01c",
   "metadata": {},
   "outputs": [],
   "source": []
  }
 ],
 "metadata": {
  "kernelspec": {
   "display_name": "Python 3 (ipykernel)",
   "language": "python",
   "name": "python3"
  },
  "language_info": {
   "codemirror_mode": {
    "name": "ipython",
    "version": 3
   },
   "file_extension": ".py",
   "mimetype": "text/x-python",
   "name": "python",
   "nbconvert_exporter": "python",
   "pygments_lexer": "ipython3",
   "version": "3.13.5"
  }
 },
 "nbformat": 4,
 "nbformat_minor": 5
}
