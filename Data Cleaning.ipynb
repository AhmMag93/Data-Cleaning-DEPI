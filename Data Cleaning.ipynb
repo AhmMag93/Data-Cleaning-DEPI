{
 "cells": [
  {
   "cell_type": "code",
   "execution_count": 73,
   "id": "9d277ee9-beca-4f1d-ace7-85b84fefc931",
   "metadata": {},
   "outputs": [],
   "source": [
    "import pandas as pd\n",
    "import csv\n",
    "import seaborn as sns\n",
    "import matplotlib.pyplot as plt\n",
    "from sklearn.preprocessing import StandardScaler, MinMaxScaler"
   ]
  },
  {
   "cell_type": "markdown",
   "id": "b9b876dd-b26a-498a-bdb4-f224d8bb3cb2",
   "metadata": {},
   "source": [
    "# Check Data Set Structure"
   ]
  },
  {
   "cell_type": "code",
   "execution_count": 34,
   "id": "9de7c1d9-1537-450c-80d3-603ba1deabfa",
   "metadata": {},
   "outputs": [
    {
     "data": {
      "text/html": [
       "<div>\n",
       "<style scoped>\n",
       "    .dataframe tbody tr th:only-of-type {\n",
       "        vertical-align: middle;\n",
       "    }\n",
       "\n",
       "    .dataframe tbody tr th {\n",
       "        vertical-align: top;\n",
       "    }\n",
       "\n",
       "    .dataframe thead th {\n",
       "        text-align: right;\n",
       "    }\n",
       "</style>\n",
       "<table border=\"1\" class=\"dataframe\">\n",
       "  <thead>\n",
       "    <tr style=\"text-align: right;\">\n",
       "      <th></th>\n",
       "      <th>fNAME</th>\n",
       "      <th>lNAME</th>\n",
       "      <th>Age</th>\n",
       "      <th>gender</th>\n",
       "      <th>country</th>\n",
       "      <th>residence</th>\n",
       "      <th>entryEXAM</th>\n",
       "      <th>prevEducation</th>\n",
       "      <th>studyHOURS</th>\n",
       "      <th>Python</th>\n",
       "      <th>DB</th>\n",
       "    </tr>\n",
       "  </thead>\n",
       "  <tbody>\n",
       "    <tr>\n",
       "      <th>0</th>\n",
       "      <td>Christina</td>\n",
       "      <td>Binger</td>\n",
       "      <td>44</td>\n",
       "      <td>Female</td>\n",
       "      <td>Norway</td>\n",
       "      <td>Private</td>\n",
       "      <td>72</td>\n",
       "      <td>Masters</td>\n",
       "      <td>158</td>\n",
       "      <td>59.0</td>\n",
       "      <td>55</td>\n",
       "    </tr>\n",
       "    <tr>\n",
       "      <th>1</th>\n",
       "      <td>Alex</td>\n",
       "      <td>Walekhwa</td>\n",
       "      <td>60</td>\n",
       "      <td>M</td>\n",
       "      <td>Kenya</td>\n",
       "      <td>Private</td>\n",
       "      <td>79</td>\n",
       "      <td>Diploma</td>\n",
       "      <td>150</td>\n",
       "      <td>60.0</td>\n",
       "      <td>75</td>\n",
       "    </tr>\n",
       "    <tr>\n",
       "      <th>2</th>\n",
       "      <td>Philip</td>\n",
       "      <td>Leo</td>\n",
       "      <td>25</td>\n",
       "      <td>Male</td>\n",
       "      <td>Uganda</td>\n",
       "      <td>Sognsvann</td>\n",
       "      <td>55</td>\n",
       "      <td>HighSchool</td>\n",
       "      <td>130</td>\n",
       "      <td>74.0</td>\n",
       "      <td>50</td>\n",
       "    </tr>\n",
       "    <tr>\n",
       "      <th>3</th>\n",
       "      <td>Shoni</td>\n",
       "      <td>Hlongwane</td>\n",
       "      <td>22</td>\n",
       "      <td>F</td>\n",
       "      <td>Rsa</td>\n",
       "      <td>Sognsvann</td>\n",
       "      <td>40</td>\n",
       "      <td>High School</td>\n",
       "      <td>120</td>\n",
       "      <td>NaN</td>\n",
       "      <td>44</td>\n",
       "    </tr>\n",
       "    <tr>\n",
       "      <th>4</th>\n",
       "      <td>Maria</td>\n",
       "      <td>Kedibone</td>\n",
       "      <td>23</td>\n",
       "      <td>Female</td>\n",
       "      <td>South Africa</td>\n",
       "      <td>Sognsvann</td>\n",
       "      <td>65</td>\n",
       "      <td>High School</td>\n",
       "      <td>122</td>\n",
       "      <td>91.0</td>\n",
       "      <td>80</td>\n",
       "    </tr>\n",
       "  </tbody>\n",
       "</table>\n",
       "</div>"
      ],
      "text/plain": [
       "       fNAME      lNAME  Age  gender       country  residence  entryEXAM  \\\n",
       "0  Christina     Binger   44  Female        Norway    Private         72   \n",
       "1       Alex   Walekhwa   60       M         Kenya    Private         79   \n",
       "2     Philip        Leo   25    Male        Uganda  Sognsvann         55   \n",
       "3      Shoni  Hlongwane   22       F           Rsa  Sognsvann         40   \n",
       "4      Maria   Kedibone   23  Female  South Africa  Sognsvann         65   \n",
       "\n",
       "  prevEducation  studyHOURS  Python  DB  \n",
       "0       Masters         158    59.0  55  \n",
       "1       Diploma         150    60.0  75  \n",
       "2    HighSchool         130    74.0  50  \n",
       "3   High School         120     NaN  44  \n",
       "4   High School         122    91.0  80  "
      ]
     },
     "execution_count": 34,
     "metadata": {},
     "output_type": "execute_result"
    }
   ],
   "source": [
    "df = pd.read_csv(\"bi.csv\", encoding = \"latin1\")\n",
    "df.head()"
   ]
  },
  {
   "cell_type": "code",
   "execution_count": 35,
   "id": "73a56d64-390a-4e12-90ce-1bb8ed404ba8",
   "metadata": {},
   "outputs": [
    {
     "name": "stdout",
     "output_type": "stream",
     "text": [
      "<class 'pandas.core.frame.DataFrame'>\n",
      "RangeIndex: 77 entries, 0 to 76\n",
      "Data columns (total 11 columns):\n",
      " #   Column         Non-Null Count  Dtype  \n",
      "---  ------         --------------  -----  \n",
      " 0   fNAME          77 non-null     object \n",
      " 1   lNAME          77 non-null     object \n",
      " 2   Age            77 non-null     int64  \n",
      " 3   gender         77 non-null     object \n",
      " 4   country        77 non-null     object \n",
      " 5   residence      77 non-null     object \n",
      " 6   entryEXAM      77 non-null     int64  \n",
      " 7   prevEducation  77 non-null     object \n",
      " 8   studyHOURS     77 non-null     int64  \n",
      " 9   Python         75 non-null     float64\n",
      " 10  DB             77 non-null     int64  \n",
      "dtypes: float64(1), int64(4), object(6)\n",
      "memory usage: 6.7+ KB\n"
     ]
    }
   ],
   "source": [
    "df.info()"
   ]
  },
  {
   "cell_type": "code",
   "execution_count": 36,
   "id": "36af87b6-5a35-44bb-ba74-cc017923a7cf",
   "metadata": {},
   "outputs": [
    {
     "data": {
      "text/html": [
       "<div>\n",
       "<style scoped>\n",
       "    .dataframe tbody tr th:only-of-type {\n",
       "        vertical-align: middle;\n",
       "    }\n",
       "\n",
       "    .dataframe tbody tr th {\n",
       "        vertical-align: top;\n",
       "    }\n",
       "\n",
       "    .dataframe thead th {\n",
       "        text-align: right;\n",
       "    }\n",
       "</style>\n",
       "<table border=\"1\" class=\"dataframe\">\n",
       "  <thead>\n",
       "    <tr style=\"text-align: right;\">\n",
       "      <th></th>\n",
       "      <th>Age</th>\n",
       "      <th>entryEXAM</th>\n",
       "      <th>studyHOURS</th>\n",
       "      <th>Python</th>\n",
       "      <th>DB</th>\n",
       "    </tr>\n",
       "  </thead>\n",
       "  <tbody>\n",
       "    <tr>\n",
       "      <th>count</th>\n",
       "      <td>77.000000</td>\n",
       "      <td>77.000000</td>\n",
       "      <td>77.000000</td>\n",
       "      <td>75.000000</td>\n",
       "      <td>77.000000</td>\n",
       "    </tr>\n",
       "    <tr>\n",
       "      <th>mean</th>\n",
       "      <td>35.207792</td>\n",
       "      <td>76.753247</td>\n",
       "      <td>149.714286</td>\n",
       "      <td>75.853333</td>\n",
       "      <td>69.467532</td>\n",
       "    </tr>\n",
       "    <tr>\n",
       "      <th>std</th>\n",
       "      <td>10.341966</td>\n",
       "      <td>16.475784</td>\n",
       "      <td>12.743272</td>\n",
       "      <td>15.410328</td>\n",
       "      <td>17.033701</td>\n",
       "    </tr>\n",
       "    <tr>\n",
       "      <th>min</th>\n",
       "      <td>21.000000</td>\n",
       "      <td>28.000000</td>\n",
       "      <td>114.000000</td>\n",
       "      <td>15.000000</td>\n",
       "      <td>30.000000</td>\n",
       "    </tr>\n",
       "    <tr>\n",
       "      <th>25%</th>\n",
       "      <td>27.000000</td>\n",
       "      <td>69.000000</td>\n",
       "      <td>144.000000</td>\n",
       "      <td>71.000000</td>\n",
       "      <td>56.000000</td>\n",
       "    </tr>\n",
       "    <tr>\n",
       "      <th>50%</th>\n",
       "      <td>33.000000</td>\n",
       "      <td>80.000000</td>\n",
       "      <td>156.000000</td>\n",
       "      <td>81.000000</td>\n",
       "      <td>71.000000</td>\n",
       "    </tr>\n",
       "    <tr>\n",
       "      <th>75%</th>\n",
       "      <td>42.000000</td>\n",
       "      <td>90.000000</td>\n",
       "      <td>158.000000</td>\n",
       "      <td>85.000000</td>\n",
       "      <td>83.000000</td>\n",
       "    </tr>\n",
       "    <tr>\n",
       "      <th>max</th>\n",
       "      <td>71.000000</td>\n",
       "      <td>98.000000</td>\n",
       "      <td>160.000000</td>\n",
       "      <td>91.000000</td>\n",
       "      <td>100.000000</td>\n",
       "    </tr>\n",
       "  </tbody>\n",
       "</table>\n",
       "</div>"
      ],
      "text/plain": [
       "             Age  entryEXAM  studyHOURS     Python          DB\n",
       "count  77.000000  77.000000   77.000000  75.000000   77.000000\n",
       "mean   35.207792  76.753247  149.714286  75.853333   69.467532\n",
       "std    10.341966  16.475784   12.743272  15.410328   17.033701\n",
       "min    21.000000  28.000000  114.000000  15.000000   30.000000\n",
       "25%    27.000000  69.000000  144.000000  71.000000   56.000000\n",
       "50%    33.000000  80.000000  156.000000  81.000000   71.000000\n",
       "75%    42.000000  90.000000  158.000000  85.000000   83.000000\n",
       "max    71.000000  98.000000  160.000000  91.000000  100.000000"
      ]
     },
     "execution_count": 36,
     "metadata": {},
     "output_type": "execute_result"
    }
   ],
   "source": [
    "df.describe()"
   ]
  },
  {
   "cell_type": "markdown",
   "id": "f1611e54-bd8c-4f30-8ba6-8045e5499f41",
   "metadata": {},
   "source": [
    "# Study hours is not correct. this is between 16 Hrs per day and 22 hours per day (which is illogical)"
   ]
  },
  {
   "cell_type": "code",
   "execution_count": 37,
   "id": "94b71c0a-723c-40a2-ba79-c02d7c685c0f",
   "metadata": {},
   "outputs": [
    {
     "data": {
      "text/plain": [
       "(77, 11)"
      ]
     },
     "execution_count": 37,
     "metadata": {},
     "output_type": "execute_result"
    }
   ],
   "source": [
    "df.shape"
   ]
  },
  {
   "cell_type": "markdown",
   "id": "ea44684f-69c2-49bf-b23d-fb128335b105",
   "metadata": {},
   "source": [
    "## Question: Which columns should be categorical and which should be numerical?\n",
    "### Categorical:\n",
    "    - Gender\n",
    "    - Country\n",
    "    - PrevEducation\n",
    "    - Residence\n",
    "\n",
    "### Numerical:\n",
    "    - Age\n",
    "    - entryEXAM\n",
    "    - studyHOURS\n",
    "    - Python\n",
    "    - DB"
   ]
  },
  {
   "cell_type": "markdown",
   "id": "c39508e7-6e7f-4855-af3e-b0ebee369810",
   "metadata": {},
   "source": [
    "# Detect and Fix Inconsistent Categories"
   ]
  },
  {
   "cell_type": "code",
   "execution_count": 38,
   "id": "57c38116-7fce-48a5-ab93-b08b1eb45ee4",
   "metadata": {},
   "outputs": [
    {
     "data": {
      "text/plain": [
       "array(['Female', 'M', 'Male', 'F', 'female', 'male'], dtype=object)"
      ]
     },
     "execution_count": 38,
     "metadata": {},
     "output_type": "execute_result"
    }
   ],
   "source": [
    "df['gender'].unique()"
   ]
  },
  {
   "cell_type": "code",
   "execution_count": 39,
   "id": "1f2edc0a-257b-4bc8-99e4-1f7124ba0dd7",
   "metadata": {},
   "outputs": [
    {
     "data": {
      "text/plain": [
       "array(['Norway', 'Kenya', 'Uganda', 'Rsa', 'South Africa', 'Norge',\n",
       "       'norway', 'Denmark', 'Netherlands', 'Italy', 'Spain', 'UK',\n",
       "       'Somali', 'Nigeria', 'Germany', 'France'], dtype=object)"
      ]
     },
     "execution_count": 39,
     "metadata": {},
     "output_type": "execute_result"
    }
   ],
   "source": [
    "df['country'].unique()"
   ]
  },
  {
   "cell_type": "code",
   "execution_count": 40,
   "id": "c50e14af-20b0-4130-b836-35d680c4229f",
   "metadata": {},
   "outputs": [
    {
     "data": {
      "text/plain": [
       "array(['Masters', 'Diploma', 'HighSchool', 'High School', 'Bachelors',\n",
       "       'Barrrchelors', 'diploma', 'DIPLOMA', 'Diplomaaa', 'Doctorate'],\n",
       "      dtype=object)"
      ]
     },
     "execution_count": 40,
     "metadata": {},
     "output_type": "execute_result"
    }
   ],
   "source": [
    "df['prevEducation'].unique()"
   ]
  },
  {
   "cell_type": "code",
   "execution_count": 41,
   "id": "d106e35d-51ae-4745-9cae-f68578a50e59",
   "metadata": {},
   "outputs": [
    {
     "data": {
      "text/plain": [
       "gender\n",
       "Female    43\n",
       "Male      34\n",
       "Name: count, dtype: int64"
      ]
     },
     "execution_count": 41,
     "metadata": {},
     "output_type": "execute_result"
    }
   ],
   "source": [
    "df ['gender']= df['gender'].replace({\"M\":\"Male\",\"male\":\"Male\", \"F\" : \"Female\", \"female\": \"Female\"})\n",
    "df['gender'].value_counts()"
   ]
  },
  {
   "cell_type": "code",
   "execution_count": 42,
   "id": "de08434a-d6f9-4eaf-bcb8-fc75c115934d",
   "metadata": {},
   "outputs": [
    {
     "data": {
      "text/plain": [
       "country\n",
       "Norway          47\n",
       "Uganda           4\n",
       "Kenya            3\n",
       "Germany          3\n",
       "Italy            2\n",
       "Spain            2\n",
       "Netherlands      2\n",
       "Denmark          2\n",
       "UK               2\n",
       "Somali           2\n",
       "Nigeria          2\n",
       "France           2\n",
       "norway           1\n",
       "Norge            1\n",
       "South Africa     1\n",
       "Rsa              1\n",
       "Name: count, dtype: int64"
      ]
     },
     "execution_count": 42,
     "metadata": {},
     "output_type": "execute_result"
    }
   ],
   "source": [
    "df['country'].value_counts()"
   ]
  },
  {
   "cell_type": "code",
   "execution_count": 43,
   "id": "75b3227b-1127-43ce-b4f6-e97fd23eaea8",
   "metadata": {},
   "outputs": [
    {
     "data": {
      "text/plain": [
       "country\n",
       "Norway          49\n",
       "Uganda           4\n",
       "Kenya            3\n",
       "Germany          3\n",
       "South Africa     2\n",
       "Denmark          2\n",
       "Netherlands      2\n",
       "Spain            2\n",
       "Italy            2\n",
       "UK               2\n",
       "Somali           2\n",
       "Nigeria          2\n",
       "France           2\n",
       "Name: count, dtype: int64"
      ]
     },
     "execution_count": 43,
     "metadata": {},
     "output_type": "execute_result"
    }
   ],
   "source": [
    "df['country']= df['country'].replace({\"Norge\":\"Norway\", \"norway\":\"Norway\", \"Rsa\" : \"South Africa\"})\n",
    "df['country'].value_counts()"
   ]
  },
  {
   "cell_type": "code",
   "execution_count": 44,
   "id": "20e0c823-e7a3-4c6a-8b45-31e434976307",
   "metadata": {},
   "outputs": [
    {
     "data": {
      "text/plain": [
       "prevEducation\n",
       "Bachelors       24\n",
       "High School     18\n",
       "Masters         16\n",
       "Diploma          9\n",
       "Doctorate        5\n",
       "HighSchool       1\n",
       "Barrrchelors     1\n",
       "diploma          1\n",
       "DIPLOMA          1\n",
       "Diplomaaa        1\n",
       "Name: count, dtype: int64"
      ]
     },
     "execution_count": 44,
     "metadata": {},
     "output_type": "execute_result"
    }
   ],
   "source": [
    "df['prevEducation'].value_counts()"
   ]
  },
  {
   "cell_type": "code",
   "execution_count": 45,
   "id": "4984e69f-03e7-4d26-ae45-6e9ae18a1143",
   "metadata": {},
   "outputs": [
    {
     "data": {
      "text/plain": [
       "prevEducation\n",
       "Bachelors       24\n",
       "High School     18\n",
       "Masters         16\n",
       "Diploma         11\n",
       "Doctorate        5\n",
       "Highschool       1\n",
       "Barrrchelors     1\n",
       "Diplomaaa        1\n",
       "Name: count, dtype: int64"
      ]
     },
     "execution_count": 45,
     "metadata": {},
     "output_type": "execute_result"
    }
   ],
   "source": [
    "df['prevEducation'] = df['prevEducation'].str.title().str.strip()\n",
    "df['prevEducation'].value_counts()"
   ]
  },
  {
   "cell_type": "code",
   "execution_count": 46,
   "id": "68ea580b-2728-471f-9ab9-a6cfce1ceb18",
   "metadata": {},
   "outputs": [
    {
     "data": {
      "text/plain": [
       "prevEducation\n",
       "Bachelors      25\n",
       "High School    19\n",
       "Masters        16\n",
       "Diploma        12\n",
       "Doctorate       5\n",
       "Name: count, dtype: int64"
      ]
     },
     "execution_count": 46,
     "metadata": {},
     "output_type": "execute_result"
    }
   ],
   "source": [
    "df['prevEducation'] = df['prevEducation'].replace({\"Diplomaaa\":\"Diploma\", \"Barrrchelors\": \"Bachelors\", \"Highschool\":\"High School\"})\n",
    "df['prevEducation'].value_counts()"
   ]
  },
  {
   "cell_type": "code",
   "execution_count": 47,
   "id": "149b00f0-b184-4012-a21d-fe03b9601665",
   "metadata": {},
   "outputs": [
    {
     "data": {
      "text/plain": [
       "residence\n",
       "Private         33\n",
       "BI Residence    29\n",
       "Sognsvann       12\n",
       "BI-Residence     1\n",
       "BIResidence      1\n",
       "BI_Residence     1\n",
       "Name: count, dtype: int64"
      ]
     },
     "execution_count": 47,
     "metadata": {},
     "output_type": "execute_result"
    }
   ],
   "source": [
    "df[\"residence\"].value_counts()"
   ]
  },
  {
   "cell_type": "code",
   "execution_count": 48,
   "id": "52595c96-32f6-4b26-b084-c1a348a67410",
   "metadata": {},
   "outputs": [
    {
     "data": {
      "text/plain": [
       "residence\n",
       "Private         33\n",
       "BI Residence    32\n",
       "Sognsvann       12\n",
       "Name: count, dtype: int64"
      ]
     },
     "execution_count": 48,
     "metadata": {},
     "output_type": "execute_result"
    }
   ],
   "source": [
    "df[\"residence\"]= df[\"residence\"].replace({\"BI-Residence\":\"BI Residence\",\"BIResidence\":\"BI Residence\",\"BI_Residence\":\"BI Residence\"})\n",
    "df[\"residence\"].value_counts()"
   ]
  },
  {
   "cell_type": "markdown",
   "id": "adb6e6f4-ae92-4497-b57a-790c91be50f9",
   "metadata": {},
   "source": [
    "# Check and Handle Duplicates"
   ]
  },
  {
   "cell_type": "code",
   "execution_count": 49,
   "id": "e6af5c17-77c8-4fc7-a25e-c464f322945c",
   "metadata": {},
   "outputs": [
    {
     "data": {
      "text/html": [
       "<div>\n",
       "<style scoped>\n",
       "    .dataframe tbody tr th:only-of-type {\n",
       "        vertical-align: middle;\n",
       "    }\n",
       "\n",
       "    .dataframe tbody tr th {\n",
       "        vertical-align: top;\n",
       "    }\n",
       "\n",
       "    .dataframe thead th {\n",
       "        text-align: right;\n",
       "    }\n",
       "</style>\n",
       "<table border=\"1\" class=\"dataframe\">\n",
       "  <thead>\n",
       "    <tr style=\"text-align: right;\">\n",
       "      <th></th>\n",
       "      <th>fNAME</th>\n",
       "      <th>lNAME</th>\n",
       "      <th>Age</th>\n",
       "      <th>gender</th>\n",
       "      <th>country</th>\n",
       "      <th>residence</th>\n",
       "      <th>entryEXAM</th>\n",
       "      <th>prevEducation</th>\n",
       "      <th>studyHOURS</th>\n",
       "      <th>Python</th>\n",
       "      <th>DB</th>\n",
       "    </tr>\n",
       "  </thead>\n",
       "  <tbody>\n",
       "  </tbody>\n",
       "</table>\n",
       "</div>"
      ],
      "text/plain": [
       "Empty DataFrame\n",
       "Columns: [fNAME, lNAME, Age, gender, country, residence, entryEXAM, prevEducation, studyHOURS, Python, DB]\n",
       "Index: []"
      ]
     },
     "execution_count": 49,
     "metadata": {},
     "output_type": "execute_result"
    }
   ],
   "source": [
    "df[df.duplicated()]"
   ]
  },
  {
   "cell_type": "markdown",
   "id": "8a55d750-4c0c-42ee-b06a-ce8bd6b5904c",
   "metadata": {},
   "source": [
    "# Part 2\n",
    "# Identify Missing Values"
   ]
  },
  {
   "cell_type": "code",
   "execution_count": 50,
   "id": "b4fe5149-895b-464d-a8ac-e87f28ba5bdd",
   "metadata": {},
   "outputs": [
    {
     "data": {
      "text/html": [
       "<div>\n",
       "<style scoped>\n",
       "    .dataframe tbody tr th:only-of-type {\n",
       "        vertical-align: middle;\n",
       "    }\n",
       "\n",
       "    .dataframe tbody tr th {\n",
       "        vertical-align: top;\n",
       "    }\n",
       "\n",
       "    .dataframe thead th {\n",
       "        text-align: right;\n",
       "    }\n",
       "</style>\n",
       "<table border=\"1\" class=\"dataframe\">\n",
       "  <thead>\n",
       "    <tr style=\"text-align: right;\">\n",
       "      <th></th>\n",
       "      <th>fNAME</th>\n",
       "      <th>lNAME</th>\n",
       "      <th>Age</th>\n",
       "      <th>gender</th>\n",
       "      <th>country</th>\n",
       "      <th>residence</th>\n",
       "      <th>entryEXAM</th>\n",
       "      <th>prevEducation</th>\n",
       "      <th>studyHOURS</th>\n",
       "      <th>Python</th>\n",
       "      <th>DB</th>\n",
       "    </tr>\n",
       "  </thead>\n",
       "  <tbody>\n",
       "    <tr>\n",
       "      <th>0</th>\n",
       "      <td>Christina</td>\n",
       "      <td>Binger</td>\n",
       "      <td>44</td>\n",
       "      <td>Female</td>\n",
       "      <td>Norway</td>\n",
       "      <td>Private</td>\n",
       "      <td>72</td>\n",
       "      <td>Masters</td>\n",
       "      <td>158</td>\n",
       "      <td>59.0</td>\n",
       "      <td>55</td>\n",
       "    </tr>\n",
       "    <tr>\n",
       "      <th>1</th>\n",
       "      <td>Alex</td>\n",
       "      <td>Walekhwa</td>\n",
       "      <td>60</td>\n",
       "      <td>Male</td>\n",
       "      <td>Kenya</td>\n",
       "      <td>Private</td>\n",
       "      <td>79</td>\n",
       "      <td>Diploma</td>\n",
       "      <td>150</td>\n",
       "      <td>60.0</td>\n",
       "      <td>75</td>\n",
       "    </tr>\n",
       "    <tr>\n",
       "      <th>2</th>\n",
       "      <td>Philip</td>\n",
       "      <td>Leo</td>\n",
       "      <td>25</td>\n",
       "      <td>Male</td>\n",
       "      <td>Uganda</td>\n",
       "      <td>Sognsvann</td>\n",
       "      <td>55</td>\n",
       "      <td>High School</td>\n",
       "      <td>130</td>\n",
       "      <td>74.0</td>\n",
       "      <td>50</td>\n",
       "    </tr>\n",
       "    <tr>\n",
       "      <th>3</th>\n",
       "      <td>Shoni</td>\n",
       "      <td>Hlongwane</td>\n",
       "      <td>22</td>\n",
       "      <td>Female</td>\n",
       "      <td>South Africa</td>\n",
       "      <td>Sognsvann</td>\n",
       "      <td>40</td>\n",
       "      <td>High School</td>\n",
       "      <td>120</td>\n",
       "      <td>NaN</td>\n",
       "      <td>44</td>\n",
       "    </tr>\n",
       "    <tr>\n",
       "      <th>4</th>\n",
       "      <td>Maria</td>\n",
       "      <td>Kedibone</td>\n",
       "      <td>23</td>\n",
       "      <td>Female</td>\n",
       "      <td>South Africa</td>\n",
       "      <td>Sognsvann</td>\n",
       "      <td>65</td>\n",
       "      <td>High School</td>\n",
       "      <td>122</td>\n",
       "      <td>91.0</td>\n",
       "      <td>80</td>\n",
       "    </tr>\n",
       "    <tr>\n",
       "      <th>...</th>\n",
       "      <td>...</td>\n",
       "      <td>...</td>\n",
       "      <td>...</td>\n",
       "      <td>...</td>\n",
       "      <td>...</td>\n",
       "      <td>...</td>\n",
       "      <td>...</td>\n",
       "      <td>...</td>\n",
       "      <td>...</td>\n",
       "      <td>...</td>\n",
       "      <td>...</td>\n",
       "    </tr>\n",
       "    <tr>\n",
       "      <th>72</th>\n",
       "      <td>Clara</td>\n",
       "      <td>Bernard</td>\n",
       "      <td>43</td>\n",
       "      <td>Female</td>\n",
       "      <td>France</td>\n",
       "      <td>Private</td>\n",
       "      <td>80</td>\n",
       "      <td>Bachelors</td>\n",
       "      <td>150</td>\n",
       "      <td>75.0</td>\n",
       "      <td>43</td>\n",
       "    </tr>\n",
       "    <tr>\n",
       "      <th>73</th>\n",
       "      <td>Julian</td>\n",
       "      <td>Nielsen</td>\n",
       "      <td>31</td>\n",
       "      <td>Male</td>\n",
       "      <td>Denmark</td>\n",
       "      <td>Sognsvann</td>\n",
       "      <td>90</td>\n",
       "      <td>Masters</td>\n",
       "      <td>158</td>\n",
       "      <td>84.0</td>\n",
       "      <td>83</td>\n",
       "    </tr>\n",
       "    <tr>\n",
       "      <th>74</th>\n",
       "      <td>Sophie</td>\n",
       "      <td>Brown</td>\n",
       "      <td>33</td>\n",
       "      <td>Female</td>\n",
       "      <td>UK</td>\n",
       "      <td>Sognsvann</td>\n",
       "      <td>96</td>\n",
       "      <td>Masters</td>\n",
       "      <td>158</td>\n",
       "      <td>85.0</td>\n",
       "      <td>90</td>\n",
       "    </tr>\n",
       "    <tr>\n",
       "      <th>75</th>\n",
       "      <td>Leon</td>\n",
       "      <td>Bauer</td>\n",
       "      <td>35</td>\n",
       "      <td>Male</td>\n",
       "      <td>Germany</td>\n",
       "      <td>Sognsvann</td>\n",
       "      <td>90</td>\n",
       "      <td>Masters</td>\n",
       "      <td>160</td>\n",
       "      <td>87.0</td>\n",
       "      <td>74</td>\n",
       "    </tr>\n",
       "    <tr>\n",
       "      <th>76</th>\n",
       "      <td>Mohammed</td>\n",
       "      <td>Salim</td>\n",
       "      <td>31</td>\n",
       "      <td>Male</td>\n",
       "      <td>Somali</td>\n",
       "      <td>Sognsvann</td>\n",
       "      <td>35</td>\n",
       "      <td>Masters</td>\n",
       "      <td>144</td>\n",
       "      <td>72.0</td>\n",
       "      <td>90</td>\n",
       "    </tr>\n",
       "  </tbody>\n",
       "</table>\n",
       "<p>77 rows × 11 columns</p>\n",
       "</div>"
      ],
      "text/plain": [
       "        fNAME      lNAME  Age  gender       country  residence  entryEXAM  \\\n",
       "0   Christina     Binger   44  Female        Norway    Private         72   \n",
       "1        Alex   Walekhwa   60    Male         Kenya    Private         79   \n",
       "2      Philip        Leo   25    Male        Uganda  Sognsvann         55   \n",
       "3       Shoni  Hlongwane   22  Female  South Africa  Sognsvann         40   \n",
       "4       Maria   Kedibone   23  Female  South Africa  Sognsvann         65   \n",
       "..        ...        ...  ...     ...           ...        ...        ...   \n",
       "72      Clara    Bernard   43  Female        France    Private         80   \n",
       "73     Julian    Nielsen   31    Male       Denmark  Sognsvann         90   \n",
       "74     Sophie      Brown   33  Female            UK  Sognsvann         96   \n",
       "75       Leon      Bauer   35    Male       Germany  Sognsvann         90   \n",
       "76   Mohammed      Salim   31    Male        Somali  Sognsvann         35   \n",
       "\n",
       "   prevEducation  studyHOURS  Python  DB  \n",
       "0        Masters         158    59.0  55  \n",
       "1        Diploma         150    60.0  75  \n",
       "2    High School         130    74.0  50  \n",
       "3    High School         120     NaN  44  \n",
       "4    High School         122    91.0  80  \n",
       "..           ...         ...     ...  ..  \n",
       "72     Bachelors         150    75.0  43  \n",
       "73       Masters         158    84.0  83  \n",
       "74       Masters         158    85.0  90  \n",
       "75       Masters         160    87.0  74  \n",
       "76       Masters         144    72.0  90  \n",
       "\n",
       "[77 rows x 11 columns]"
      ]
     },
     "execution_count": 50,
     "metadata": {},
     "output_type": "execute_result"
    }
   ],
   "source": [
    "df"
   ]
  },
  {
   "cell_type": "code",
   "execution_count": 51,
   "id": "4406fab4-1519-4e37-80cb-8a5f8fbea85e",
   "metadata": {},
   "outputs": [
    {
     "data": {
      "text/plain": [
       "fNAME            0\n",
       "lNAME            0\n",
       "Age              0\n",
       "gender           0\n",
       "country          0\n",
       "residence        0\n",
       "entryEXAM        0\n",
       "prevEducation    0\n",
       "studyHOURS       0\n",
       "Python           2\n",
       "DB               0\n",
       "dtype: int64"
      ]
     },
     "execution_count": 51,
     "metadata": {},
     "output_type": "execute_result"
    }
   ],
   "source": [
    "df.isnull().sum()"
   ]
  },
  {
   "cell_type": "markdown",
   "id": "7a3bc6ba-14a8-41f5-a123-cc5b2ecde770",
   "metadata": {},
   "source": [
    "### Question: Which columns are most affected by missing values?\n",
    "Python\n",
    "\n"
   ]
  },
  {
   "cell_type": "code",
   "execution_count": 52,
   "id": "fa1c3264-8036-4bf7-b456-2f79ec74ca97",
   "metadata": {},
   "outputs": [
    {
     "data": {
      "text/html": [
       "<div>\n",
       "<style scoped>\n",
       "    .dataframe tbody tr th:only-of-type {\n",
       "        vertical-align: middle;\n",
       "    }\n",
       "\n",
       "    .dataframe tbody tr th {\n",
       "        vertical-align: top;\n",
       "    }\n",
       "\n",
       "    .dataframe thead th {\n",
       "        text-align: right;\n",
       "    }\n",
       "</style>\n",
       "<table border=\"1\" class=\"dataframe\">\n",
       "  <thead>\n",
       "    <tr style=\"text-align: right;\">\n",
       "      <th></th>\n",
       "      <th>fNAME</th>\n",
       "      <th>lNAME</th>\n",
       "      <th>Age</th>\n",
       "      <th>gender</th>\n",
       "      <th>country</th>\n",
       "      <th>residence</th>\n",
       "      <th>entryEXAM</th>\n",
       "      <th>prevEducation</th>\n",
       "      <th>studyHOURS</th>\n",
       "      <th>Python</th>\n",
       "      <th>DB</th>\n",
       "    </tr>\n",
       "  </thead>\n",
       "  <tbody>\n",
       "    <tr>\n",
       "      <th>3</th>\n",
       "      <td>Shoni</td>\n",
       "      <td>Hlongwane</td>\n",
       "      <td>22</td>\n",
       "      <td>Female</td>\n",
       "      <td>South Africa</td>\n",
       "      <td>Sognsvann</td>\n",
       "      <td>40</td>\n",
       "      <td>High School</td>\n",
       "      <td>120</td>\n",
       "      <td>NaN</td>\n",
       "      <td>44</td>\n",
       "    </tr>\n",
       "    <tr>\n",
       "      <th>33</th>\n",
       "      <td>Frank</td>\n",
       "      <td>Abrahamsen</td>\n",
       "      <td>23</td>\n",
       "      <td>Male</td>\n",
       "      <td>Norway</td>\n",
       "      <td>BI Residence</td>\n",
       "      <td>68</td>\n",
       "      <td>High School</td>\n",
       "      <td>152</td>\n",
       "      <td>NaN</td>\n",
       "      <td>70</td>\n",
       "    </tr>\n",
       "  </tbody>\n",
       "</table>\n",
       "</div>"
      ],
      "text/plain": [
       "    fNAME       lNAME  Age  gender       country     residence  entryEXAM  \\\n",
       "3   Shoni   Hlongwane   22  Female  South Africa     Sognsvann         40   \n",
       "33  Frank  Abrahamsen   23    Male        Norway  BI Residence         68   \n",
       "\n",
       "   prevEducation  studyHOURS  Python  DB  \n",
       "3    High School         120     NaN  44  \n",
       "33   High School         152     NaN  70  "
      ]
     },
     "execution_count": 52,
     "metadata": {},
     "output_type": "execute_result"
    }
   ],
   "source": [
    "df[df[\"Python\"].isnull() == True]"
   ]
  },
  {
   "cell_type": "code",
   "execution_count": 53,
   "id": "8f66faf4-13ad-4543-b8fb-f26ac0b4c4cb",
   "metadata": {},
   "outputs": [
    {
     "data": {
      "text/plain": [
       "count    75.000000\n",
       "mean     75.853333\n",
       "std      15.410328\n",
       "min      15.000000\n",
       "25%      71.000000\n",
       "50%      81.000000\n",
       "75%      85.000000\n",
       "max      91.000000\n",
       "Name: Python, dtype: float64"
      ]
     },
     "execution_count": 53,
     "metadata": {},
     "output_type": "execute_result"
    }
   ],
   "source": [
    "df[\"Python\"].describe()"
   ]
  },
  {
   "cell_type": "code",
   "execution_count": 54,
   "id": "49811bf5-6b62-46e0-9ced-975267f6c94a",
   "metadata": {},
   "outputs": [
    {
     "data": {
      "text/plain": [
       "np.int64(0)"
      ]
     },
     "execution_count": 54,
     "metadata": {},
     "output_type": "execute_result"
    }
   ],
   "source": [
    "mean = df[\"Python\"].mean()\n",
    "df[\"Python\"] = df[\"Python\"].fillna(round(mean))\n",
    "df[\"Python\"].isnull().sum()"
   ]
  },
  {
   "cell_type": "code",
   "execution_count": 55,
   "id": "eec54fe6-f37a-46b1-a3d1-52c734e8e728",
   "metadata": {},
   "outputs": [
    {
     "data": {
      "text/plain": [
       "3     76.0\n",
       "33    76.0\n",
       "Name: Python, dtype: float64"
      ]
     },
     "execution_count": 55,
     "metadata": {},
     "output_type": "execute_result"
    }
   ],
   "source": [
    "df[\"Python\"].loc[[3,33]]"
   ]
  },
  {
   "cell_type": "code",
   "execution_count": 56,
   "id": "d794cc7c-2559-429a-96e7-cb58e96c745c",
   "metadata": {},
   "outputs": [
    {
     "name": "stdout",
     "output_type": "stream",
     "text": [
      "<class 'pandas.core.frame.DataFrame'>\n",
      "RangeIndex: 77 entries, 0 to 76\n",
      "Data columns (total 11 columns):\n",
      " #   Column         Non-Null Count  Dtype  \n",
      "---  ------         --------------  -----  \n",
      " 0   fNAME          77 non-null     object \n",
      " 1   lNAME          77 non-null     object \n",
      " 2   Age            77 non-null     int64  \n",
      " 3   gender         77 non-null     object \n",
      " 4   country        77 non-null     object \n",
      " 5   residence      77 non-null     object \n",
      " 6   entryEXAM      77 non-null     int64  \n",
      " 7   prevEducation  77 non-null     object \n",
      " 8   studyHOURS     77 non-null     int64  \n",
      " 9   Python         77 non-null     float64\n",
      " 10  DB             77 non-null     int64  \n",
      "dtypes: float64(1), int64(4), object(6)\n",
      "memory usage: 6.7+ KB\n"
     ]
    }
   ],
   "source": [
    "df.info()"
   ]
  },
  {
   "cell_type": "markdown",
   "id": "fb786706-97e2-473e-a56d-733ff75758c9",
   "metadata": {},
   "source": [
    "### Only Python scores had 2 missing values, filled with mean"
   ]
  },
  {
   "cell_type": "markdown",
   "id": "7305dc93-d987-4636-a1b5-28286967dae6",
   "metadata": {},
   "source": [
    "# Part 3 \n",
    "# Outliers\n"
   ]
  },
  {
   "cell_type": "code",
   "execution_count": 57,
   "id": "113ba848-1305-4679-aa01-eaf182e64bef",
   "metadata": {},
   "outputs": [
    {
     "data": {
      "image/png": "[encoded data removed]",
      "text/plain": [
       "<Figure size 640x480 with 1 Axes>"
      ]
     },
     "metadata": {},
     "output_type": "display_data"
    },
    {
     "data": {
      "image/png": "[encoded data removed]",
      "text/plain": [
       "<Figure size 640x480 with 1 Axes>"
      ]
     },
     "metadata": {},
     "output_type": "display_data"
    },
    {
     "data": {
      "image/png": "[encoded data removed]",
      "text/plain": [
       "<Figure size 640x480 with 1 Axes>"
      ]
     },
     "metadata": {},
     "output_type": "display_data"
    },
    {
     "data": {
      "image/png": "[encoded data removed]",
      "text/plain": [
       "<Figure size 640x480 with 1 Axes>"
      ]
     },
     "metadata": {},
     "output_type": "display_data"
    },
    {
     "data": {
      "image/png": "[encoded data removed]",
      "text/plain": [
       "<Figure size 640x480 with 1 Axes>"
      ]
     },
     "metadata": {},
     "output_type": "display_data"
    }
   ],
   "source": [
    "df_num = df.select_dtypes(include = [\"float64\", \"int64\"])\n",
    "for column in df_num.columns:\n",
    "    sns.boxplot(data = df_num[column])\n",
    "    plt.show()\n",
    "\n"
   ]
  },
  {
   "cell_type": "markdown",
   "id": "db485402-ad67-4961-b063-cdcd35b88d87",
   "metadata": {},
   "source": [
    "## Question: Which values in studyHOURS, Python, or DB look unrealistic?\n",
    "all the values in the studyHOURS are unrealistic. they range between 16 and 22 hours per day (no body can study these long hours daily)\n",
    "Python and DB are realistic"
   ]
  },
  {
   "cell_type": "markdown",
   "id": "48026e23-d679-4084-8b50-cad3d5d3a835",
   "metadata": {},
   "source": [
    "### Applying IQR Method "
   ]
  },
  {
   "cell_type": "code",
   "execution_count": 58,
   "id": "1b76a7fa-8a64-4c4a-9b7c-4bead9fb077e",
   "metadata": {},
   "outputs": [
    {
     "data": {
      "text/plain": [
       "Age            27.0\n",
       "entryEXAM      69.0\n",
       "studyHOURS    144.0\n",
       "Python         72.0\n",
       "DB             56.0\n",
       "Name: 0.25, dtype: float64"
      ]
     },
     "execution_count": 58,
     "metadata": {},
     "output_type": "execute_result"
    }
   ],
   "source": [
    "Q1 = df_num.quantile(0.25)\n",
    "Q1"
   ]
  },
  {
   "cell_type": "code",
   "execution_count": 59,
   "id": "e1d20b89-6fe0-4b49-a720-3648f811e0e8",
   "metadata": {},
   "outputs": [
    {
     "data": {
      "text/plain": [
       "Age            42.0\n",
       "entryEXAM      90.0\n",
       "studyHOURS    158.0\n",
       "Python         85.0\n",
       "DB             83.0\n",
       "Name: 0.75, dtype: float64"
      ]
     },
     "execution_count": 59,
     "metadata": {},
     "output_type": "execute_result"
    }
   ],
   "source": [
    "Q3 = df_num.quantile(0.75)\n",
    "Q3"
   ]
  },
  {
   "cell_type": "code",
   "execution_count": 60,
   "id": "0032f788-2763-42e9-9cc0-60fcdc26252b",
   "metadata": {},
   "outputs": [
    {
     "data": {
      "text/plain": [
       "Age           15.0\n",
       "entryEXAM     21.0\n",
       "studyHOURS    14.0\n",
       "Python        13.0\n",
       "DB            27.0\n",
       "dtype: float64"
      ]
     },
     "execution_count": 60,
     "metadata": {},
     "output_type": "execute_result"
    }
   ],
   "source": [
    "IQR = Q3 - Q1\n",
    "IQR"
   ]
  },
  {
   "cell_type": "code",
   "execution_count": 61,
   "id": "2524255d-7854-4757-b6a2-23561c199f30",
   "metadata": {},
   "outputs": [
    {
     "data": {
      "text/plain": [
       "Age             4.5\n",
       "entryEXAM      37.5\n",
       "studyHOURS    123.0\n",
       "Python         52.5\n",
       "DB             15.5\n",
       "dtype: float64"
      ]
     },
     "execution_count": 61,
     "metadata": {},
     "output_type": "execute_result"
    }
   ],
   "source": [
    "limit_min = Q1 - (1.5 * IQR)\n",
    "limit_min"
   ]
  },
  {
   "cell_type": "code",
   "execution_count": 62,
   "id": "c33a0d67-72f1-4f72-81dc-4bd3923f93f0",
   "metadata": {},
   "outputs": [
    {
     "data": {
      "text/plain": [
       "Age            64.5\n",
       "entryEXAM     121.5\n",
       "studyHOURS    179.0\n",
       "Python        104.5\n",
       "DB            123.5\n",
       "dtype: float64"
      ]
     },
     "execution_count": 62,
     "metadata": {},
     "output_type": "execute_result"
    }
   ],
   "source": [
    "limit_max = Q3 + (1.5 * IQR)\n",
    "limit_max"
   ]
  },
  {
   "cell_type": "code",
   "execution_count": 63,
   "id": "8b9f36cd-0728-44e7-8ce3-fb1fd7ecc9fb",
   "metadata": {},
   "outputs": [
    {
     "data": {
      "text/html": [
       "<div>\n",
       "<style scoped>\n",
       "    .dataframe tbody tr th:only-of-type {\n",
       "        vertical-align: middle;\n",
       "    }\n",
       "\n",
       "    .dataframe tbody tr th {\n",
       "        vertical-align: top;\n",
       "    }\n",
       "\n",
       "    .dataframe thead th {\n",
       "        text-align: right;\n",
       "    }\n",
       "</style>\n",
       "<table border=\"1\" class=\"dataframe\">\n",
       "  <thead>\n",
       "    <tr style=\"text-align: right;\">\n",
       "      <th></th>\n",
       "      <th>Age</th>\n",
       "      <th>entryEXAM</th>\n",
       "      <th>studyHOURS</th>\n",
       "      <th>Python</th>\n",
       "      <th>DB</th>\n",
       "    </tr>\n",
       "  </thead>\n",
       "  <tbody>\n",
       "    <tr>\n",
       "      <th>3</th>\n",
       "      <td>22</td>\n",
       "      <td>40</td>\n",
       "      <td>120</td>\n",
       "      <td>76.0</td>\n",
       "      <td>44</td>\n",
       "    </tr>\n",
       "    <tr>\n",
       "      <th>4</th>\n",
       "      <td>23</td>\n",
       "      <td>65</td>\n",
       "      <td>122</td>\n",
       "      <td>91.0</td>\n",
       "      <td>80</td>\n",
       "    </tr>\n",
       "    <tr>\n",
       "      <th>20</th>\n",
       "      <td>22</td>\n",
       "      <td>45</td>\n",
       "      <td>116</td>\n",
       "      <td>33.0</td>\n",
       "      <td>30</td>\n",
       "    </tr>\n",
       "    <tr>\n",
       "      <th>21</th>\n",
       "      <td>24</td>\n",
       "      <td>50</td>\n",
       "      <td>114</td>\n",
       "      <td>30.0</td>\n",
       "      <td>50</td>\n",
       "    </tr>\n",
       "    <tr>\n",
       "      <th>32</th>\n",
       "      <td>71</td>\n",
       "      <td>30</td>\n",
       "      <td>120</td>\n",
       "      <td>31.0</td>\n",
       "      <td>42</td>\n",
       "    </tr>\n",
       "    <tr>\n",
       "      <th>48</th>\n",
       "      <td>26</td>\n",
       "      <td>68</td>\n",
       "      <td>124</td>\n",
       "      <td>48.0</td>\n",
       "      <td>62</td>\n",
       "    </tr>\n",
       "    <tr>\n",
       "      <th>49</th>\n",
       "      <td>28</td>\n",
       "      <td>69</td>\n",
       "      <td>120</td>\n",
       "      <td>45.0</td>\n",
       "      <td>70</td>\n",
       "    </tr>\n",
       "    <tr>\n",
       "      <th>53</th>\n",
       "      <td>36</td>\n",
       "      <td>28</td>\n",
       "      <td>120</td>\n",
       "      <td>15.0</td>\n",
       "      <td>67</td>\n",
       "    </tr>\n",
       "    <tr>\n",
       "      <th>55</th>\n",
       "      <td>69</td>\n",
       "      <td>94</td>\n",
       "      <td>160</td>\n",
       "      <td>87.0</td>\n",
       "      <td>88</td>\n",
       "    </tr>\n",
       "    <tr>\n",
       "      <th>76</th>\n",
       "      <td>31</td>\n",
       "      <td>35</td>\n",
       "      <td>144</td>\n",
       "      <td>72.0</td>\n",
       "      <td>90</td>\n",
       "    </tr>\n",
       "  </tbody>\n",
       "</table>\n",
       "</div>"
      ],
      "text/plain": [
       "    Age  entryEXAM  studyHOURS  Python  DB\n",
       "3    22         40         120    76.0  44\n",
       "4    23         65         122    91.0  80\n",
       "20   22         45         116    33.0  30\n",
       "21   24         50         114    30.0  50\n",
       "32   71         30         120    31.0  42\n",
       "48   26         68         124    48.0  62\n",
       "49   28         69         120    45.0  70\n",
       "53   36         28         120    15.0  67\n",
       "55   69         94         160    87.0  88\n",
       "76   31         35         144    72.0  90"
      ]
     },
     "execution_count": 63,
     "metadata": {},
     "output_type": "execute_result"
    }
   ],
   "source": [
    "mask = ((df_num < (Q1 - 1.5 * IQR)) | (df_num > (Q3 + 1.5 * IQR)))\n",
    "outliers = df_num[mask.any(axis = 1)]\n",
    "outliers"
   ]
  },
  {
   "cell_type": "code",
   "execution_count": 64,
   "id": "fb955393-0faa-481a-a36e-3123b1ad48e7",
   "metadata": {},
   "outputs": [
    {
     "data": {
      "text/html": [
       "<div>\n",
       "<style scoped>\n",
       "    .dataframe tbody tr th:only-of-type {\n",
       "        vertical-align: middle;\n",
       "    }\n",
       "\n",
       "    .dataframe tbody tr th {\n",
       "        vertical-align: top;\n",
       "    }\n",
       "\n",
       "    .dataframe thead th {\n",
       "        text-align: right;\n",
       "    }\n",
       "</style>\n",
       "<table border=\"1\" class=\"dataframe\">\n",
       "  <thead>\n",
       "    <tr style=\"text-align: right;\">\n",
       "      <th></th>\n",
       "      <th>fNAME</th>\n",
       "      <th>lNAME</th>\n",
       "      <th>Age</th>\n",
       "      <th>gender</th>\n",
       "      <th>country</th>\n",
       "      <th>residence</th>\n",
       "      <th>entryEXAM</th>\n",
       "      <th>prevEducation</th>\n",
       "      <th>studyHOURS</th>\n",
       "      <th>Python</th>\n",
       "      <th>DB</th>\n",
       "    </tr>\n",
       "  </thead>\n",
       "  <tbody>\n",
       "    <tr>\n",
       "      <th>3</th>\n",
       "      <td>Shoni</td>\n",
       "      <td>Hlongwane</td>\n",
       "      <td>22</td>\n",
       "      <td>Female</td>\n",
       "      <td>South Africa</td>\n",
       "      <td>Sognsvann</td>\n",
       "      <td>40</td>\n",
       "      <td>High School</td>\n",
       "      <td>120</td>\n",
       "      <td>76.0</td>\n",
       "      <td>44</td>\n",
       "    </tr>\n",
       "    <tr>\n",
       "      <th>4</th>\n",
       "      <td>Maria</td>\n",
       "      <td>Kedibone</td>\n",
       "      <td>23</td>\n",
       "      <td>Female</td>\n",
       "      <td>South Africa</td>\n",
       "      <td>Sognsvann</td>\n",
       "      <td>65</td>\n",
       "      <td>High School</td>\n",
       "      <td>122</td>\n",
       "      <td>91.0</td>\n",
       "      <td>80</td>\n",
       "    </tr>\n",
       "    <tr>\n",
       "      <th>20</th>\n",
       "      <td>Prof</td>\n",
       "      <td>Birkeland</td>\n",
       "      <td>22</td>\n",
       "      <td>Male</td>\n",
       "      <td>Norway</td>\n",
       "      <td>BI Residence</td>\n",
       "      <td>45</td>\n",
       "      <td>High School</td>\n",
       "      <td>116</td>\n",
       "      <td>33.0</td>\n",
       "      <td>30</td>\n",
       "    </tr>\n",
       "    <tr>\n",
       "      <th>21</th>\n",
       "      <td>Hanna</td>\n",
       "      <td>Isaksen</td>\n",
       "      <td>24</td>\n",
       "      <td>Female</td>\n",
       "      <td>Norway</td>\n",
       "      <td>BI Residence</td>\n",
       "      <td>50</td>\n",
       "      <td>High School</td>\n",
       "      <td>114</td>\n",
       "      <td>30.0</td>\n",
       "      <td>50</td>\n",
       "    </tr>\n",
       "    <tr>\n",
       "      <th>32</th>\n",
       "      <td>Perry</td>\n",
       "      <td>Rønning</td>\n",
       "      <td>71</td>\n",
       "      <td>Female</td>\n",
       "      <td>Norway</td>\n",
       "      <td>Private</td>\n",
       "      <td>30</td>\n",
       "      <td>Doctorate</td>\n",
       "      <td>120</td>\n",
       "      <td>31.0</td>\n",
       "      <td>42</td>\n",
       "    </tr>\n",
       "    <tr>\n",
       "      <th>48</th>\n",
       "      <td>Jenny</td>\n",
       "      <td>Kristoffersen</td>\n",
       "      <td>26</td>\n",
       "      <td>Female</td>\n",
       "      <td>Norway</td>\n",
       "      <td>BI Residence</td>\n",
       "      <td>68</td>\n",
       "      <td>High School</td>\n",
       "      <td>124</td>\n",
       "      <td>48.0</td>\n",
       "      <td>62</td>\n",
       "    </tr>\n",
       "    <tr>\n",
       "      <th>49</th>\n",
       "      <td>Thea</td>\n",
       "      <td>Knutsen</td>\n",
       "      <td>28</td>\n",
       "      <td>Male</td>\n",
       "      <td>Norway</td>\n",
       "      <td>BI Residence</td>\n",
       "      <td>69</td>\n",
       "      <td>High School</td>\n",
       "      <td>120</td>\n",
       "      <td>45.0</td>\n",
       "      <td>70</td>\n",
       "    </tr>\n",
       "    <tr>\n",
       "      <th>53</th>\n",
       "      <td>Chinedu</td>\n",
       "      <td>Morison</td>\n",
       "      <td>36</td>\n",
       "      <td>Male</td>\n",
       "      <td>Nigeria</td>\n",
       "      <td>Private</td>\n",
       "      <td>28</td>\n",
       "      <td>Diploma</td>\n",
       "      <td>120</td>\n",
       "      <td>15.0</td>\n",
       "      <td>67</td>\n",
       "    </tr>\n",
       "    <tr>\n",
       "      <th>55</th>\n",
       "      <td>Chinedu</td>\n",
       "      <td>Okafor</td>\n",
       "      <td>69</td>\n",
       "      <td>Male</td>\n",
       "      <td>Nigeria</td>\n",
       "      <td>Private</td>\n",
       "      <td>94</td>\n",
       "      <td>Doctorate</td>\n",
       "      <td>160</td>\n",
       "      <td>87.0</td>\n",
       "      <td>88</td>\n",
       "    </tr>\n",
       "    <tr>\n",
       "      <th>76</th>\n",
       "      <td>Mohammed</td>\n",
       "      <td>Salim</td>\n",
       "      <td>31</td>\n",
       "      <td>Male</td>\n",
       "      <td>Somali</td>\n",
       "      <td>Sognsvann</td>\n",
       "      <td>35</td>\n",
       "      <td>Masters</td>\n",
       "      <td>144</td>\n",
       "      <td>72.0</td>\n",
       "      <td>90</td>\n",
       "    </tr>\n",
       "  </tbody>\n",
       "</table>\n",
       "</div>"
      ],
      "text/plain": [
       "       fNAME          lNAME  Age  gender       country     residence  \\\n",
       "3      Shoni      Hlongwane   22  Female  South Africa     Sognsvann   \n",
       "4      Maria       Kedibone   23  Female  South Africa     Sognsvann   \n",
       "20      Prof      Birkeland   22    Male        Norway  BI Residence   \n",
       "21     Hanna        Isaksen   24  Female        Norway  BI Residence   \n",
       "32     Perry        Rønning   71  Female        Norway       Private   \n",
       "48     Jenny  Kristoffersen   26  Female        Norway  BI Residence   \n",
       "49      Thea        Knutsen   28    Male        Norway  BI Residence   \n",
       "53   Chinedu        Morison   36    Male       Nigeria       Private   \n",
       "55   Chinedu         Okafor   69    Male       Nigeria       Private   \n",
       "76  Mohammed          Salim   31    Male        Somali     Sognsvann   \n",
       "\n",
       "    entryEXAM prevEducation  studyHOURS  Python  DB  \n",
       "3          40   High School         120    76.0  44  \n",
       "4          65   High School         122    91.0  80  \n",
       "20         45   High School         116    33.0  30  \n",
       "21         50   High School         114    30.0  50  \n",
       "32         30     Doctorate         120    31.0  42  \n",
       "48         68   High School         124    48.0  62  \n",
       "49         69   High School         120    45.0  70  \n",
       "53         28       Diploma         120    15.0  67  \n",
       "55         94     Doctorate         160    87.0  88  \n",
       "76         35       Masters         144    72.0  90  "
      ]
     },
     "execution_count": 64,
     "metadata": {},
     "output_type": "execute_result"
    }
   ],
   "source": [
    "mask = ((df_num < (Q1 - 1.5 * IQR)) | (df_num > (Q3 + 1.5 * IQR)))\n",
    "outliers2 = df[mask.any(axis = 1)]\n",
    "outliers2"
   ]
  },
  {
   "cell_type": "markdown",
   "id": "024d0885-fcab-43ae-941d-b3d31aa5c64d",
   "metadata": {},
   "source": [
    "# Feature Engineering"
   ]
  },
  {
   "cell_type": "code",
   "execution_count": 66,
   "id": "801f758f-d710-4319-8c04-f83760ddca29",
   "metadata": {},
   "outputs": [
    {
     "data": {
      "text/html": [
       "<div>\n",
       "<style scoped>\n",
       "    .dataframe tbody tr th:only-of-type {\n",
       "        vertical-align: middle;\n",
       "    }\n",
       "\n",
       "    .dataframe tbody tr th {\n",
       "        vertical-align: top;\n",
       "    }\n",
       "\n",
       "    .dataframe thead th {\n",
       "        text-align: right;\n",
       "    }\n",
       "</style>\n",
       "<table border=\"1\" class=\"dataframe\">\n",
       "  <thead>\n",
       "    <tr style=\"text-align: right;\">\n",
       "      <th></th>\n",
       "      <th>fNAME</th>\n",
       "      <th>lNAME</th>\n",
       "      <th>Age</th>\n",
       "      <th>gender</th>\n",
       "      <th>country</th>\n",
       "      <th>residence</th>\n",
       "      <th>entryEXAM</th>\n",
       "      <th>prevEducation</th>\n",
       "      <th>studyHOURS</th>\n",
       "      <th>Python</th>\n",
       "      <th>DB</th>\n",
       "      <th>programming average</th>\n",
       "    </tr>\n",
       "  </thead>\n",
       "  <tbody>\n",
       "    <tr>\n",
       "      <th>0</th>\n",
       "      <td>Christina</td>\n",
       "      <td>Binger</td>\n",
       "      <td>44</td>\n",
       "      <td>Female</td>\n",
       "      <td>Norway</td>\n",
       "      <td>Private</td>\n",
       "      <td>72</td>\n",
       "      <td>Masters</td>\n",
       "      <td>158</td>\n",
       "      <td>59.0</td>\n",
       "      <td>55</td>\n",
       "      <td>57.0</td>\n",
       "    </tr>\n",
       "    <tr>\n",
       "      <th>1</th>\n",
       "      <td>Alex</td>\n",
       "      <td>Walekhwa</td>\n",
       "      <td>60</td>\n",
       "      <td>Male</td>\n",
       "      <td>Kenya</td>\n",
       "      <td>Private</td>\n",
       "      <td>79</td>\n",
       "      <td>Diploma</td>\n",
       "      <td>150</td>\n",
       "      <td>60.0</td>\n",
       "      <td>75</td>\n",
       "      <td>67.5</td>\n",
       "    </tr>\n",
       "    <tr>\n",
       "      <th>2</th>\n",
       "      <td>Philip</td>\n",
       "      <td>Leo</td>\n",
       "      <td>25</td>\n",
       "      <td>Male</td>\n",
       "      <td>Uganda</td>\n",
       "      <td>Sognsvann</td>\n",
       "      <td>55</td>\n",
       "      <td>High School</td>\n",
       "      <td>130</td>\n",
       "      <td>74.0</td>\n",
       "      <td>50</td>\n",
       "      <td>62.0</td>\n",
       "    </tr>\n",
       "    <tr>\n",
       "      <th>3</th>\n",
       "      <td>Shoni</td>\n",
       "      <td>Hlongwane</td>\n",
       "      <td>22</td>\n",
       "      <td>Female</td>\n",
       "      <td>South Africa</td>\n",
       "      <td>Sognsvann</td>\n",
       "      <td>40</td>\n",
       "      <td>High School</td>\n",
       "      <td>120</td>\n",
       "      <td>76.0</td>\n",
       "      <td>44</td>\n",
       "      <td>60.0</td>\n",
       "    </tr>\n",
       "    <tr>\n",
       "      <th>4</th>\n",
       "      <td>Maria</td>\n",
       "      <td>Kedibone</td>\n",
       "      <td>23</td>\n",
       "      <td>Female</td>\n",
       "      <td>South Africa</td>\n",
       "      <td>Sognsvann</td>\n",
       "      <td>65</td>\n",
       "      <td>High School</td>\n",
       "      <td>122</td>\n",
       "      <td>91.0</td>\n",
       "      <td>80</td>\n",
       "      <td>85.5</td>\n",
       "    </tr>\n",
       "  </tbody>\n",
       "</table>\n",
       "</div>"
      ],
      "text/plain": [
       "       fNAME      lNAME  Age  gender       country  residence  entryEXAM  \\\n",
       "0  Christina     Binger   44  Female        Norway    Private         72   \n",
       "1       Alex   Walekhwa   60    Male         Kenya    Private         79   \n",
       "2     Philip        Leo   25    Male        Uganda  Sognsvann         55   \n",
       "3      Shoni  Hlongwane   22  Female  South Africa  Sognsvann         40   \n",
       "4      Maria   Kedibone   23  Female  South Africa  Sognsvann         65   \n",
       "\n",
       "  prevEducation  studyHOURS  Python  DB  programming average  \n",
       "0       Masters         158    59.0  55                 57.0  \n",
       "1       Diploma         150    60.0  75                 67.5  \n",
       "2   High School         130    74.0  50                 62.0  \n",
       "3   High School         120    76.0  44                 60.0  \n",
       "4   High School         122    91.0  80                 85.5  "
      ]
     },
     "execution_count": 66,
     "metadata": {},
     "output_type": "execute_result"
    }
   ],
   "source": [
    "# New Feature \"programming averge\"\n",
    "df['programming average'] = (df['Python'] + df['DB'])/2\n",
    "df.head()"
   ]
  },
  {
   "cell_type": "code",
   "execution_count": 67,
   "id": "1dec05d7-d060-4cec-b23e-3f2c7c1b85d7",
   "metadata": {},
   "outputs": [
    {
     "data": {
      "text/html": [
       "<div>\n",
       "<style scoped>\n",
       "    .dataframe tbody tr th:only-of-type {\n",
       "        vertical-align: middle;\n",
       "    }\n",
       "\n",
       "    .dataframe tbody tr th {\n",
       "        vertical-align: top;\n",
       "    }\n",
       "\n",
       "    .dataframe thead th {\n",
       "        text-align: right;\n",
       "    }\n",
       "</style>\n",
       "<table border=\"1\" class=\"dataframe\">\n",
       "  <thead>\n",
       "    <tr style=\"text-align: right;\">\n",
       "      <th></th>\n",
       "      <th>fNAME</th>\n",
       "      <th>lNAME</th>\n",
       "      <th>Age</th>\n",
       "      <th>gender</th>\n",
       "      <th>country</th>\n",
       "      <th>residence</th>\n",
       "      <th>entryEXAM</th>\n",
       "      <th>prevEducation</th>\n",
       "      <th>studyHOURS</th>\n",
       "      <th>Python</th>\n",
       "      <th>DB</th>\n",
       "      <th>programming average</th>\n",
       "      <th>isAdult</th>\n",
       "    </tr>\n",
       "  </thead>\n",
       "  <tbody>\n",
       "    <tr>\n",
       "      <th>0</th>\n",
       "      <td>Christina</td>\n",
       "      <td>Binger</td>\n",
       "      <td>44</td>\n",
       "      <td>Female</td>\n",
       "      <td>Norway</td>\n",
       "      <td>Private</td>\n",
       "      <td>72</td>\n",
       "      <td>Masters</td>\n",
       "      <td>158</td>\n",
       "      <td>59.0</td>\n",
       "      <td>55</td>\n",
       "      <td>57.0</td>\n",
       "      <td>1</td>\n",
       "    </tr>\n",
       "    <tr>\n",
       "      <th>1</th>\n",
       "      <td>Alex</td>\n",
       "      <td>Walekhwa</td>\n",
       "      <td>60</td>\n",
       "      <td>Male</td>\n",
       "      <td>Kenya</td>\n",
       "      <td>Private</td>\n",
       "      <td>79</td>\n",
       "      <td>Diploma</td>\n",
       "      <td>150</td>\n",
       "      <td>60.0</td>\n",
       "      <td>75</td>\n",
       "      <td>67.5</td>\n",
       "      <td>1</td>\n",
       "    </tr>\n",
       "    <tr>\n",
       "      <th>2</th>\n",
       "      <td>Philip</td>\n",
       "      <td>Leo</td>\n",
       "      <td>25</td>\n",
       "      <td>Male</td>\n",
       "      <td>Uganda</td>\n",
       "      <td>Sognsvann</td>\n",
       "      <td>55</td>\n",
       "      <td>High School</td>\n",
       "      <td>130</td>\n",
       "      <td>74.0</td>\n",
       "      <td>50</td>\n",
       "      <td>62.0</td>\n",
       "      <td>1</td>\n",
       "    </tr>\n",
       "    <tr>\n",
       "      <th>3</th>\n",
       "      <td>Shoni</td>\n",
       "      <td>Hlongwane</td>\n",
       "      <td>22</td>\n",
       "      <td>Female</td>\n",
       "      <td>South Africa</td>\n",
       "      <td>Sognsvann</td>\n",
       "      <td>40</td>\n",
       "      <td>High School</td>\n",
       "      <td>120</td>\n",
       "      <td>76.0</td>\n",
       "      <td>44</td>\n",
       "      <td>60.0</td>\n",
       "      <td>0</td>\n",
       "    </tr>\n",
       "    <tr>\n",
       "      <th>4</th>\n",
       "      <td>Maria</td>\n",
       "      <td>Kedibone</td>\n",
       "      <td>23</td>\n",
       "      <td>Female</td>\n",
       "      <td>South Africa</td>\n",
       "      <td>Sognsvann</td>\n",
       "      <td>65</td>\n",
       "      <td>High School</td>\n",
       "      <td>122</td>\n",
       "      <td>91.0</td>\n",
       "      <td>80</td>\n",
       "      <td>85.5</td>\n",
       "      <td>0</td>\n",
       "    </tr>\n",
       "  </tbody>\n",
       "</table>\n",
       "</div>"
      ],
      "text/plain": [
       "       fNAME      lNAME  Age  gender       country  residence  entryEXAM  \\\n",
       "0  Christina     Binger   44  Female        Norway    Private         72   \n",
       "1       Alex   Walekhwa   60    Male         Kenya    Private         79   \n",
       "2     Philip        Leo   25    Male        Uganda  Sognsvann         55   \n",
       "3      Shoni  Hlongwane   22  Female  South Africa  Sognsvann         40   \n",
       "4      Maria   Kedibone   23  Female  South Africa  Sognsvann         65   \n",
       "\n",
       "  prevEducation  studyHOURS  Python  DB  programming average  isAdult  \n",
       "0       Masters         158    59.0  55                 57.0        1  \n",
       "1       Diploma         150    60.0  75                 67.5        1  \n",
       "2   High School         130    74.0  50                 62.0        1  \n",
       "3   High School         120    76.0  44                 60.0        0  \n",
       "4   High School         122    91.0  80                 85.5        0  "
      ]
     },
     "execution_count": 67,
     "metadata": {},
     "output_type": "execute_result"
    }
   ],
   "source": [
    "df['isAdult'] = (df['Age']>=25).astype(int)\n",
    "df.head()"
   ]
  },
  {
   "cell_type": "code",
   "execution_count": 68,
   "id": "61436ccd-4685-4946-acde-c39657a9f6b1",
   "metadata": {},
   "outputs": [
    {
     "data": {
      "text/html": [
       "<div>\n",
       "<style scoped>\n",
       "    .dataframe tbody tr th:only-of-type {\n",
       "        vertical-align: middle;\n",
       "    }\n",
       "\n",
       "    .dataframe tbody tr th {\n",
       "        vertical-align: top;\n",
       "    }\n",
       "\n",
       "    .dataframe thead th {\n",
       "        text-align: right;\n",
       "    }\n",
       "</style>\n",
       "<table border=\"1\" class=\"dataframe\">\n",
       "  <thead>\n",
       "    <tr style=\"text-align: right;\">\n",
       "      <th></th>\n",
       "      <th>fNAME</th>\n",
       "      <th>lNAME</th>\n",
       "      <th>Age</th>\n",
       "      <th>gender</th>\n",
       "      <th>country</th>\n",
       "      <th>residence</th>\n",
       "      <th>entryEXAM</th>\n",
       "      <th>prevEducation</th>\n",
       "      <th>studyHOURS</th>\n",
       "      <th>Python</th>\n",
       "      <th>DB</th>\n",
       "      <th>programming average</th>\n",
       "      <th>isAdult</th>\n",
       "    </tr>\n",
       "  </thead>\n",
       "  <tbody>\n",
       "    <tr>\n",
       "      <th>0</th>\n",
       "      <td>Christina</td>\n",
       "      <td>Binger</td>\n",
       "      <td>44</td>\n",
       "      <td>Female</td>\n",
       "      <td>Norway</td>\n",
       "      <td>Private</td>\n",
       "      <td>72</td>\n",
       "      <td>Masters</td>\n",
       "      <td>High</td>\n",
       "      <td>59.0</td>\n",
       "      <td>55</td>\n",
       "      <td>57.0</td>\n",
       "      <td>1</td>\n",
       "    </tr>\n",
       "    <tr>\n",
       "      <th>1</th>\n",
       "      <td>Alex</td>\n",
       "      <td>Walekhwa</td>\n",
       "      <td>60</td>\n",
       "      <td>Male</td>\n",
       "      <td>Kenya</td>\n",
       "      <td>Private</td>\n",
       "      <td>79</td>\n",
       "      <td>Diploma</td>\n",
       "      <td>High</td>\n",
       "      <td>60.0</td>\n",
       "      <td>75</td>\n",
       "      <td>67.5</td>\n",
       "      <td>1</td>\n",
       "    </tr>\n",
       "    <tr>\n",
       "      <th>2</th>\n",
       "      <td>Philip</td>\n",
       "      <td>Leo</td>\n",
       "      <td>25</td>\n",
       "      <td>Male</td>\n",
       "      <td>Uganda</td>\n",
       "      <td>Sognsvann</td>\n",
       "      <td>55</td>\n",
       "      <td>High School</td>\n",
       "      <td>Medium</td>\n",
       "      <td>74.0</td>\n",
       "      <td>50</td>\n",
       "      <td>62.0</td>\n",
       "      <td>1</td>\n",
       "    </tr>\n",
       "    <tr>\n",
       "      <th>3</th>\n",
       "      <td>Shoni</td>\n",
       "      <td>Hlongwane</td>\n",
       "      <td>22</td>\n",
       "      <td>Female</td>\n",
       "      <td>South Africa</td>\n",
       "      <td>Sognsvann</td>\n",
       "      <td>40</td>\n",
       "      <td>High School</td>\n",
       "      <td>Low</td>\n",
       "      <td>76.0</td>\n",
       "      <td>44</td>\n",
       "      <td>60.0</td>\n",
       "      <td>0</td>\n",
       "    </tr>\n",
       "    <tr>\n",
       "      <th>4</th>\n",
       "      <td>Maria</td>\n",
       "      <td>Kedibone</td>\n",
       "      <td>23</td>\n",
       "      <td>Female</td>\n",
       "      <td>South Africa</td>\n",
       "      <td>Sognsvann</td>\n",
       "      <td>65</td>\n",
       "      <td>High School</td>\n",
       "      <td>Low</td>\n",
       "      <td>91.0</td>\n",
       "      <td>80</td>\n",
       "      <td>85.5</td>\n",
       "      <td>0</td>\n",
       "    </tr>\n",
       "  </tbody>\n",
       "</table>\n",
       "</div>"
      ],
      "text/plain": [
       "       fNAME      lNAME  Age  gender       country  residence  entryEXAM  \\\n",
       "0  Christina     Binger   44  Female        Norway    Private         72   \n",
       "1       Alex   Walekhwa   60    Male         Kenya    Private         79   \n",
       "2     Philip        Leo   25    Male        Uganda  Sognsvann         55   \n",
       "3      Shoni  Hlongwane   22  Female  South Africa  Sognsvann         40   \n",
       "4      Maria   Kedibone   23  Female  South Africa  Sognsvann         65   \n",
       "\n",
       "  prevEducation studyHOURS  Python  DB  programming average  isAdult  \n",
       "0       Masters       High    59.0  55                 57.0        1  \n",
       "1       Diploma       High    60.0  75                 67.5        1  \n",
       "2   High School     Medium    74.0  50                 62.0        1  \n",
       "3   High School        Low    76.0  44                 60.0        0  \n",
       "4   High School        Low    91.0  80                 85.5        0  "
      ]
     },
     "execution_count": 68,
     "metadata": {},
     "output_type": "execute_result"
    }
   ],
   "source": [
    "df['studyHOURS'] = pd.cut(df['studyHOURS'], bins = 3, labels = [\"Low\", \"Medium\", \"High\"])\n",
    "df.head()"
   ]
  },
  {
   "cell_type": "markdown",
   "id": "cb46f25f-3f4d-41ca-a8bb-92d8bc873f0a",
   "metadata": {},
   "source": [
    "## Question: Which engineered feature do you think would add the most predictive power to the model?\n",
    "Programing average"
   ]
  },
  {
   "cell_type": "markdown",
   "id": "d85e5d22-e6c9-40b7-8b78-c9dbc1ffcde1",
   "metadata": {},
   "source": [
    "# Feature Scaling"
   ]
  },
  {
   "cell_type": "code",
   "execution_count": 70,
   "id": "0999c3b4-345f-4414-a801-35fafdae25fc",
   "metadata": {},
   "outputs": [
    {
     "data": {
      "text/html": [
       "<div>\n",
       "<style scoped>\n",
       "    .dataframe tbody tr th:only-of-type {\n",
       "        vertical-align: middle;\n",
       "    }\n",
       "\n",
       "    .dataframe tbody tr th {\n",
       "        vertical-align: top;\n",
       "    }\n",
       "\n",
       "    .dataframe thead th {\n",
       "        text-align: right;\n",
       "    }\n",
       "</style>\n",
       "<table border=\"1\" class=\"dataframe\">\n",
       "  <thead>\n",
       "    <tr style=\"text-align: right;\">\n",
       "      <th></th>\n",
       "      <th>Age</th>\n",
       "      <th>entryEXAM</th>\n",
       "      <th>Python</th>\n",
       "      <th>DB</th>\n",
       "      <th>programming average</th>\n",
       "      <th>isAdult</th>\n",
       "    </tr>\n",
       "  </thead>\n",
       "  <tbody>\n",
       "    <tr>\n",
       "      <th>0</th>\n",
       "      <td>44</td>\n",
       "      <td>72</td>\n",
       "      <td>59.0</td>\n",
       "      <td>55</td>\n",
       "      <td>57.0</td>\n",
       "      <td>1</td>\n",
       "    </tr>\n",
       "    <tr>\n",
       "      <th>1</th>\n",
       "      <td>60</td>\n",
       "      <td>79</td>\n",
       "      <td>60.0</td>\n",
       "      <td>75</td>\n",
       "      <td>67.5</td>\n",
       "      <td>1</td>\n",
       "    </tr>\n",
       "    <tr>\n",
       "      <th>2</th>\n",
       "      <td>25</td>\n",
       "      <td>55</td>\n",
       "      <td>74.0</td>\n",
       "      <td>50</td>\n",
       "      <td>62.0</td>\n",
       "      <td>1</td>\n",
       "    </tr>\n",
       "    <tr>\n",
       "      <th>3</th>\n",
       "      <td>22</td>\n",
       "      <td>40</td>\n",
       "      <td>76.0</td>\n",
       "      <td>44</td>\n",
       "      <td>60.0</td>\n",
       "      <td>0</td>\n",
       "    </tr>\n",
       "    <tr>\n",
       "      <th>4</th>\n",
       "      <td>23</td>\n",
       "      <td>65</td>\n",
       "      <td>91.0</td>\n",
       "      <td>80</td>\n",
       "      <td>85.5</td>\n",
       "      <td>0</td>\n",
       "    </tr>\n",
       "  </tbody>\n",
       "</table>\n",
       "</div>"
      ],
      "text/plain": [
       "   Age  entryEXAM  Python  DB  programming average  isAdult\n",
       "0   44         72    59.0  55                 57.0        1\n",
       "1   60         79    60.0  75                 67.5        1\n",
       "2   25         55    74.0  50                 62.0        1\n",
       "3   22         40    76.0  44                 60.0        0\n",
       "4   23         65    91.0  80                 85.5        0"
      ]
     },
     "execution_count": 70,
     "metadata": {},
     "output_type": "execute_result"
    }
   ],
   "source": [
    "df_num = df.select_dtypes(include=[\"number\"])\n",
    "df_num.head()"
   ]
  },
  {
   "cell_type": "code",
   "execution_count": 76,
   "id": "b322e54d-8a9c-4f1f-bd38-01ebda3c0f47",
   "metadata": {},
   "outputs": [
    {
     "data": {
      "text/plain": [
       "array([[0.46      , 0.62857143, 0.57894737, 0.35714286, 0.41463415],\n",
       "       [0.78      , 0.72857143, 0.59210526, 0.64285714, 0.58536585],\n",
       "       [0.08      , 0.38571429, 0.77631579, 0.28571429, 0.49593496],\n",
       "       [0.02      , 0.17142857, 0.80263158, 0.2       , 0.46341463],\n",
       "       [0.04      , 0.52857143, 1.        , 0.71428571, 0.87804878],\n",
       "       [0.08      , 0.54285714, 0.96052632, 0.41428571, 0.68292683],\n",
       "       [0.12      , 0.88571429, 0.85526316, 0.87142857, 0.87804878],\n",
       "       [0.16      , 0.87142857, 0.92105263, 0.42857143, 0.66666667],\n",
       "       [0.2       , 0.85714286, 0.85526316, 0.84285714, 0.86178862],\n",
       "       [0.24      , 0.81428571, 0.89473684, 0.85714286, 0.89430894],\n",
       "       [0.26      , 0.52857143, 0.84210526, 0.4       , 0.60162602],\n",
       "       [0.3       , 0.6       , 0.85526316, 0.35714286, 0.58536585],\n",
       "       [0.34      , 0.9       , 0.92105263, 0.98571429, 0.98373984],\n",
       "       [0.38      , 0.7       , 0.72368421, 0.65714286, 0.67479675],\n",
       "       [0.42      , 0.74285714, 0.78947368, 0.67142857, 0.72357724],\n",
       "       [0.44      , 0.75714286, 0.85526316, 0.74285714, 0.80487805],\n",
       "       [0.48      , 0.81428571, 0.94736842, 0.74285714, 0.86178862],\n",
       "       [0.52      , 0.82857143, 0.85526316, 0.68571429, 0.77235772],\n",
       "       [0.54      , 0.67142857, 0.80263158, 0.61428571, 0.69918699],\n",
       "       [0.58      , 0.95714286, 0.90789474, 0.85714286, 0.90243902],\n",
       "       [0.02      , 0.24285714, 0.23684211, 0.        , 0.        ],\n",
       "       [0.06      , 0.31428571, 0.19736842, 0.28571429, 0.13821138],\n",
       "       [0.1       , 0.38571429, 0.60526316, 0.37142857, 0.43902439],\n",
       "       [0.14      , 0.71428571, 0.85526316, 0.35714286, 0.58536585],\n",
       "       [0.18      , 0.77142857, 0.88157895, 0.5       , 0.68292683],\n",
       "       [0.22      , 0.75714286, 0.92105263, 0.75714286, 0.85365854],\n",
       "       [0.28      , 0.91428571, 0.94736842, 0.82857143, 0.91056911],\n",
       "       [0.32      , 0.38571429, 0.67105263, 0.4       , 0.49593496],\n",
       "       [0.36      , 0.74285714, 0.86842105, 0.55714286, 0.70731707],\n",
       "       [0.4       , 0.82857143, 0.86842105, 0.87142857, 0.88617886],\n",
       "       [0.46      , 0.71428571, 0.85526316, 0.7       , 0.7804878 ],\n",
       "       [0.5       , 0.68571429, 0.92105263, 0.21428571, 0.54471545],\n",
       "       [1.        , 0.02857143, 0.21052632, 0.17142857, 0.08130081],\n",
       "       [0.04      , 0.57142857, 0.80263158, 0.57142857, 0.67479675],\n",
       "       [0.08      , 1.        , 0.98684211, 0.85714286, 0.95121951],\n",
       "       [0.12      , 0.81428571, 0.90789474, 0.85714286, 0.90243902],\n",
       "       [0.16      , 0.67142857, 0.86842105, 0.62857143, 0.74796748],\n",
       "       [0.2       , 0.95714286, 0.94736842, 0.98571429, 1.        ],\n",
       "       [0.24      , 0.31428571, 0.71052632, 0.04285714, 0.31707317],\n",
       "       [0.28      , 0.57142857, 0.59210526, 0.68571429, 0.6097561 ],\n",
       "       [0.32      , 0.24285714, 0.55263158, 0.28571429, 0.35772358],\n",
       "       [0.36      , 0.88571429, 0.92105263, 0.62857143, 0.7804878 ],\n",
       "       [0.4       , 0.88571429, 0.85526316, 0.75714286, 0.81300813],\n",
       "       [0.44      , 0.97142857, 0.94736842, 0.88571429, 0.94308943],\n",
       "       [0.48      , 0.95714286, 0.96052632, 0.8       , 0.90243902],\n",
       "       [0.52      , 0.87142857, 0.93421053, 0.42857143, 0.67479675],\n",
       "       [0.02      , 0.71428571, 0.82894737, 0.62857143, 0.72357724],\n",
       "       [0.06      , 0.37142857, 0.55263158, 0.28571429, 0.35772358],\n",
       "       [0.1       , 0.57142857, 0.43421053, 0.45714286, 0.38211382],\n",
       "       [0.14      , 0.58571429, 0.39473684, 0.57142857, 0.42276423],\n",
       "       [0.18      , 0.95714286, 0.98684211, 0.84285714, 0.94308943],\n",
       "       [0.22      , 0.77142857, 0.90789474, 0.41428571, 0.6504065 ],\n",
       "       [0.        , 0.6       , 0.71052632, 0.24285714, 0.43089431],\n",
       "       [0.3       , 0.        , 0.        , 0.52857143, 0.15447154],\n",
       "       [0.34      , 0.74285714, 0.90789474, 0.28571429, 0.57723577],\n",
       "       [0.96      , 0.94285714, 0.94736842, 0.82857143, 0.91056911],\n",
       "       [0.42      , 0.9       , 0.90789474, 0.74285714, 0.83739837],\n",
       "       [0.08      , 0.88571429, 0.86842105, 1.        , 0.95934959],\n",
       "       [0.5       , 0.94285714, 0.98684211, 0.67142857, 0.84552846],\n",
       "       [0.1       , 0.68571429, 0.90789474, 0.44285714, 0.66666667],\n",
       "       [0.58      , 0.75714286, 0.94736842, 0.22857143, 0.56910569],\n",
       "       [0.02      , 0.64285714, 0.72368421, 0.35714286, 0.50406504],\n",
       "       [0.04      , 0.88571429, 0.94736842, 0.61428571, 0.78861789],\n",
       "       [0.08      , 0.75714286, 0.92105263, 0.22857143, 0.55284553],\n",
       "       [0.12      , 0.81428571, 0.90789474, 0.54285714, 0.72357724],\n",
       "       [0.16      , 0.78571429, 0.86842105, 0.52857143, 0.69105691],\n",
       "       [0.2       , 0.87142857, 0.94736842, 0.44285714, 0.69105691],\n",
       "       [0.24      , 1.        , 0.94736842, 0.8       , 0.89430894],\n",
       "       [0.28      , 0.58571429, 0.71052632, 0.21428571, 0.41463415],\n",
       "       [0.32      , 0.74285714, 0.82894737, 0.45714286, 0.62601626],\n",
       "       [0.36      , 0.75714286, 0.85526316, 0.58571429, 0.71544715],\n",
       "       [0.58      , 0.65714286, 0.63157895, 0.42857143, 0.48780488],\n",
       "       [0.44      , 0.74285714, 0.78947368, 0.18571429, 0.44715447],\n",
       "       [0.2       , 0.88571429, 0.90789474, 0.75714286, 0.84552846],\n",
       "       [0.24      , 0.97142857, 0.92105263, 0.85714286, 0.91056911],\n",
       "       [0.28      , 0.88571429, 0.94736842, 0.62857143, 0.79674797],\n",
       "       [0.2       , 0.1       , 0.75      , 0.85714286, 0.80487805]])"
      ]
     },
     "execution_count": 76,
     "metadata": {},
     "output_type": "execute_result"
    }
   ],
   "source": [
    "scaler = MinMaxScaler()\n",
    "scaled = scaler.fit_transform(df[['Age','entryEXAM','Python','DB','programming average']])\n",
    "scaled\n"
   ]
  },
  {
   "cell_type": "code",
   "execution_count": 77,
   "id": "8069e615-964a-4fd6-99cd-afad17a12d6f",
   "metadata": {},
   "outputs": [
    {
     "data": {
      "text/html": [
       "<div>\n",
       "<style scoped>\n",
       "    .dataframe tbody tr th:only-of-type {\n",
       "        vertical-align: middle;\n",
       "    }\n",
       "\n",
       "    .dataframe tbody tr th {\n",
       "        vertical-align: top;\n",
       "    }\n",
       "\n",
       "    .dataframe thead th {\n",
       "        text-align: right;\n",
       "    }\n",
       "</style>\n",
       "<table border=\"1\" class=\"dataframe\">\n",
       "  <thead>\n",
       "    <tr style=\"text-align: right;\">\n",
       "      <th></th>\n",
       "      <th>fNAME</th>\n",
       "      <th>lNAME</th>\n",
       "      <th>Age</th>\n",
       "      <th>gender</th>\n",
       "      <th>country</th>\n",
       "      <th>residence</th>\n",
       "      <th>entryEXAM</th>\n",
       "      <th>prevEducation</th>\n",
       "      <th>studyHOURS</th>\n",
       "      <th>Python</th>\n",
       "      <th>DB</th>\n",
       "      <th>programming average</th>\n",
       "      <th>isAdult</th>\n",
       "    </tr>\n",
       "  </thead>\n",
       "  <tbody>\n",
       "    <tr>\n",
       "      <th>0</th>\n",
       "      <td>Christina</td>\n",
       "      <td>Binger</td>\n",
       "      <td>0.46</td>\n",
       "      <td>Female</td>\n",
       "      <td>Norway</td>\n",
       "      <td>Private</td>\n",
       "      <td>0.628571</td>\n",
       "      <td>Masters</td>\n",
       "      <td>High</td>\n",
       "      <td>0.578947</td>\n",
       "      <td>0.357143</td>\n",
       "      <td>0.414634</td>\n",
       "      <td>1</td>\n",
       "    </tr>\n",
       "    <tr>\n",
       "      <th>1</th>\n",
       "      <td>Alex</td>\n",
       "      <td>Walekhwa</td>\n",
       "      <td>0.78</td>\n",
       "      <td>Male</td>\n",
       "      <td>Kenya</td>\n",
       "      <td>Private</td>\n",
       "      <td>0.728571</td>\n",
       "      <td>Diploma</td>\n",
       "      <td>High</td>\n",
       "      <td>0.592105</td>\n",
       "      <td>0.642857</td>\n",
       "      <td>0.585366</td>\n",
       "      <td>1</td>\n",
       "    </tr>\n",
       "    <tr>\n",
       "      <th>2</th>\n",
       "      <td>Philip</td>\n",
       "      <td>Leo</td>\n",
       "      <td>0.08</td>\n",
       "      <td>Male</td>\n",
       "      <td>Uganda</td>\n",
       "      <td>Sognsvann</td>\n",
       "      <td>0.385714</td>\n",
       "      <td>High School</td>\n",
       "      <td>Medium</td>\n",
       "      <td>0.776316</td>\n",
       "      <td>0.285714</td>\n",
       "      <td>0.495935</td>\n",
       "      <td>1</td>\n",
       "    </tr>\n",
       "    <tr>\n",
       "      <th>3</th>\n",
       "      <td>Shoni</td>\n",
       "      <td>Hlongwane</td>\n",
       "      <td>0.02</td>\n",
       "      <td>Female</td>\n",
       "      <td>South Africa</td>\n",
       "      <td>Sognsvann</td>\n",
       "      <td>0.171429</td>\n",
       "      <td>High School</td>\n",
       "      <td>Low</td>\n",
       "      <td>0.802632</td>\n",
       "      <td>0.200000</td>\n",
       "      <td>0.463415</td>\n",
       "      <td>0</td>\n",
       "    </tr>\n",
       "    <tr>\n",
       "      <th>4</th>\n",
       "      <td>Maria</td>\n",
       "      <td>Kedibone</td>\n",
       "      <td>0.04</td>\n",
       "      <td>Female</td>\n",
       "      <td>South Africa</td>\n",
       "      <td>Sognsvann</td>\n",
       "      <td>0.528571</td>\n",
       "      <td>High School</td>\n",
       "      <td>Low</td>\n",
       "      <td>1.000000</td>\n",
       "      <td>0.714286</td>\n",
       "      <td>0.878049</td>\n",
       "      <td>0</td>\n",
       "    </tr>\n",
       "  </tbody>\n",
       "</table>\n",
       "</div>"
      ],
      "text/plain": [
       "       fNAME      lNAME   Age  gender       country  residence  entryEXAM  \\\n",
       "0  Christina     Binger  0.46  Female        Norway    Private   0.628571   \n",
       "1       Alex   Walekhwa  0.78    Male         Kenya    Private   0.728571   \n",
       "2     Philip        Leo  0.08    Male        Uganda  Sognsvann   0.385714   \n",
       "3      Shoni  Hlongwane  0.02  Female  South Africa  Sognsvann   0.171429   \n",
       "4      Maria   Kedibone  0.04  Female  South Africa  Sognsvann   0.528571   \n",
       "\n",
       "  prevEducation studyHOURS    Python        DB  programming average  isAdult  \n",
       "0       Masters       High  0.578947  0.357143             0.414634        1  \n",
       "1       Diploma       High  0.592105  0.642857             0.585366        1  \n",
       "2   High School     Medium  0.776316  0.285714             0.495935        1  \n",
       "3   High School        Low  0.802632  0.200000             0.463415        0  \n",
       "4   High School        Low  1.000000  0.714286             0.878049        0  "
      ]
     },
     "execution_count": 77,
     "metadata": {},
     "output_type": "execute_result"
    }
   ],
   "source": [
    "df[['Age','entryEXAM','Python','DB','programming average']] = scaled\n",
    "df.head()"
   ]
  },
  {
   "cell_type": "code",
   "execution_count": 82,
   "id": "239437c9-0c73-41fc-8145-091e88fee213",
   "metadata": {},
   "outputs": [
    {
     "name": "stdout",
     "output_type": "stream",
     "text": [
      "<class 'pandas.core.frame.DataFrame'>\n",
      "RangeIndex: 77 entries, 0 to 76\n",
      "Data columns (total 13 columns):\n",
      " #   Column               Non-Null Count  Dtype   \n",
      "---  ------               --------------  -----   \n",
      " 0   fNAME                77 non-null     object  \n",
      " 1   lNAME                77 non-null     object  \n",
      " 2   Age                  77 non-null     float64 \n",
      " 3   gender               77 non-null     object  \n",
      " 4   country              77 non-null     object  \n",
      " 5   residence            77 non-null     object  \n",
      " 6   entryEXAM            77 non-null     float64 \n",
      " 7   prevEducation        77 non-null     object  \n",
      " 8   studyHOURS           77 non-null     category\n",
      " 9   Python               77 non-null     float64 \n",
      " 10  DB                   77 non-null     float64 \n",
      " 11  programming average  77 non-null     float64 \n",
      " 12  isAdult              77 non-null     int64   \n",
      "dtypes: category(1), float64(5), int64(1), object(6)\n",
      "memory usage: 7.6+ KB\n"
     ]
    }
   ],
   "source": [
    "df.info()"
   ]
  },
  {
   "cell_type": "code",
   "execution_count": 83,
   "id": "3fd469a1-329a-4a38-acd8-2f4b06b2fca1",
   "metadata": {},
   "outputs": [
    {
     "data": {
      "text/html": [
       "<div>\n",
       "<style scoped>\n",
       "    .dataframe tbody tr th:only-of-type {\n",
       "        vertical-align: middle;\n",
       "    }\n",
       "\n",
       "    .dataframe tbody tr th {\n",
       "        vertical-align: top;\n",
       "    }\n",
       "\n",
       "    .dataframe thead th {\n",
       "        text-align: right;\n",
       "    }\n",
       "</style>\n",
       "<table border=\"1\" class=\"dataframe\">\n",
       "  <thead>\n",
       "    <tr style=\"text-align: right;\">\n",
       "      <th></th>\n",
       "      <th>fNAME</th>\n",
       "      <th>lNAME</th>\n",
       "      <th>gender</th>\n",
       "      <th>country</th>\n",
       "      <th>residence</th>\n",
       "      <th>prevEducation</th>\n",
       "      <th>studyHOURS</th>\n",
       "    </tr>\n",
       "  </thead>\n",
       "  <tbody>\n",
       "    <tr>\n",
       "      <th>0</th>\n",
       "      <td>Christina</td>\n",
       "      <td>Binger</td>\n",
       "      <td>Female</td>\n",
       "      <td>Norway</td>\n",
       "      <td>Private</td>\n",
       "      <td>Masters</td>\n",
       "      <td>High</td>\n",
       "    </tr>\n",
       "    <tr>\n",
       "      <th>1</th>\n",
       "      <td>Alex</td>\n",
       "      <td>Walekhwa</td>\n",
       "      <td>Male</td>\n",
       "      <td>Kenya</td>\n",
       "      <td>Private</td>\n",
       "      <td>Diploma</td>\n",
       "      <td>High</td>\n",
       "    </tr>\n",
       "    <tr>\n",
       "      <th>2</th>\n",
       "      <td>Philip</td>\n",
       "      <td>Leo</td>\n",
       "      <td>Male</td>\n",
       "      <td>Uganda</td>\n",
       "      <td>Sognsvann</td>\n",
       "      <td>High School</td>\n",
       "      <td>Medium</td>\n",
       "    </tr>\n",
       "    <tr>\n",
       "      <th>3</th>\n",
       "      <td>Shoni</td>\n",
       "      <td>Hlongwane</td>\n",
       "      <td>Female</td>\n",
       "      <td>South Africa</td>\n",
       "      <td>Sognsvann</td>\n",
       "      <td>High School</td>\n",
       "      <td>Low</td>\n",
       "    </tr>\n",
       "    <tr>\n",
       "      <th>4</th>\n",
       "      <td>Maria</td>\n",
       "      <td>Kedibone</td>\n",
       "      <td>Female</td>\n",
       "      <td>South Africa</td>\n",
       "      <td>Sognsvann</td>\n",
       "      <td>High School</td>\n",
       "      <td>Low</td>\n",
       "    </tr>\n",
       "  </tbody>\n",
       "</table>\n",
       "</div>"
      ],
      "text/plain": [
       "       fNAME      lNAME  gender       country  residence prevEducation  \\\n",
       "0  Christina     Binger  Female        Norway    Private       Masters   \n",
       "1       Alex   Walekhwa    Male         Kenya    Private       Diploma   \n",
       "2     Philip        Leo    Male        Uganda  Sognsvann   High School   \n",
       "3      Shoni  Hlongwane  Female  South Africa  Sognsvann   High School   \n",
       "4      Maria   Kedibone  Female  South Africa  Sognsvann   High School   \n",
       "\n",
       "  studyHOURS  \n",
       "0       High  \n",
       "1       High  \n",
       "2     Medium  \n",
       "3        Low  \n",
       "4        Low  "
      ]
     },
     "execution_count": 83,
     "metadata": {},
     "output_type": "execute_result"
    }
   ],
   "source": [
    "df_cat = df.select_dtypes(include={\"object\", \"category\"})\n",
    "df_cat.head()"
   ]
  },
  {
   "cell_type": "code",
   "execution_count": null,
   "id": "5176145b-5346-4ad8-b434-240f97a5ddfd",
   "metadata": {},
   "outputs": [],
   "source": []
  }
 ],
 "metadata": {
  "kernelspec": {
   "display_name": "Python 3 (ipykernel)",
   "language": "python",
   "name": "python3"
  },
  "language_info": {
   "codemirror_mode": {
    "name": "ipython",
    "version": 3
   },
   "file_extension": ".py",
   "mimetype": "text/x-python",
   "name": "python",
   "nbconvert_exporter": "python",
   "pygments_lexer": "ipython3",
   "version": "3.13.5"
  }
 },
 "nbformat": 4,
 "nbformat_minor": 5
}
